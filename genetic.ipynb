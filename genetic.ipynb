{
 "cells": [
  {
   "cell_type": "markdown",
   "source": [
    "Genetic Jupyter Notebook"
   ],
   "metadata": {}
  },
  {
   "cell_type": "code",
   "execution_count": 49,
   "source": [
    "# Base imports\r\n",
    "import random\r\n",
    "import math\r\n",
    "\r\n",
    "from collections import defaultdict\r\n",
    "from typing import List"
   ],
   "outputs": [],
   "metadata": {}
  },
  {
   "cell_type": "code",
   "execution_count": 93,
   "source": [
    "'''\r\n",
    "Primary tool for running and presenting the results.\r\n",
    "\r\n",
    "Tool for collecting population information for rendering purposes.\r\n",
    "'''\r\n",
    "class GeneticTool:\r\n",
    "\r\n",
    "    def __init__(self, size: int=8, populationSize=32):\r\n",
    "        self.gq = GeneticController()\r\n",
    "\r\n",
    "        self.targetValue = random.uniform(-5000, 5000)\r\n",
    "\r\n",
    "        # Creating our population\r\n",
    "        self.population = []\r\n",
    "        for value in range(populationSize):\r\n",
    "            self.population.append(GeneticStructure())\r\n",
    "\r\n",
    "    def run(self):\r\n",
    "        iterationCount = 0\r\n",
    "        while iterationCount < 10000:\r\n",
    "            self.iteratePopulation()\r\n",
    "            iterationCount += 1\r\n",
    "\r\n",
    "    def iteratePopulation(self):\r\n",
    "        newPopulation = []\r\n",
    "        for idx in range(len(self.population)):\r\n",
    "            pop = self.population[idx]\r\n",
    "            value = self.gq.calculateOperandValue(pop)\r\n",
    "            logarithmicTargetDistance = math.log10(abs(self.targetValue - value))\r\n",
    "\r\n",
    "            # Breed with random chance\r\n",
    "            breedChance = 0.05\r\n",
    "            breedChance += logarithmicTargetDistance / 5\r\n",
    "\r\n",
    "            if random.uniform(0, 1) < breedChance:\r\n",
    "                breedTarget = random.choice(self.population)\r\n",
    "                newPopulation.append(self.gq.breed(pop, breedTarget))\r\n",
    "\r\n",
    "\r\n",
    "            # Randomly prune based on iteration age and distance from the target value\r\n",
    "            deathChance = 0.4\r\n",
    "            deathChance += logarithmicTargetDistance / 20\r\n",
    "\r\n",
    "            if random.uniform(0, 1) > deathChance and len(self.population) < 1024:\r\n",
    "                newPopulation.append(pop)\r\n",
    "\r\n",
    "        self.population = newPopulation\r\n",
    "\r\n",
    "    def getPopulationDistribution(self):\r\n",
    "        dist = defaultdict(lambda: 0)\r\n",
    "        for pop in self.population:\r\n",
    "            for code in pop.geneticCode:\r\n",
    "                dist[code] += 1\r\n",
    "\r\n",
    "        return dist"
   ],
   "outputs": [],
   "metadata": {}
  },
  {
   "cell_type": "code",
   "execution_count": 91,
   "source": [
    "'''\r\n",
    "Structure for our genetic controller which will be used as essentially a singleton\r\n",
    "'''\r\n",
    "\r\n",
    "class GeneticController:\r\n",
    "\r\n",
    "    def __init__(self, size: int=8):\r\n",
    "        # Initializing our controller with a default size of 8.\r\n",
    "        # Creating our operand function\r\n",
    "        self.size = size\r\n",
    "        self.geneticOperand = []\r\n",
    "\r\n",
    "        for i in range(size):\r\n",
    "            value = 0\r\n",
    "            while value == 0:\r\n",
    "                value = random.uniform(-10, 10)\r\n",
    "            self.geneticOperand.append(value)\r\n",
    "\r\n",
    "    def calculateOperandValue(self, gc: \"GeneticStructure\") -> int:\r\n",
    "        output, idx = 0, 0\r\n",
    "        for operand in self.geneticOperand:\r\n",
    "            try:\r\n",
    "                geneticCodeValue = gc.geneticCode[idx]\r\n",
    "                if geneticCodeValue == '+':\r\n",
    "                    output += operand\r\n",
    "                elif geneticCodeValue == '-':\r\n",
    "                    output -= operand\r\n",
    "                elif geneticCodeValue == '*':\r\n",
    "                    output *= operand\r\n",
    "                elif geneticCodeValue == '/':\r\n",
    "                    output /= operand\r\n",
    "                elif geneticCodeValue == 'pow':\r\n",
    "                    output = pow(output, operand)\r\n",
    "                elif geneticCodeValue == 'sqrt':\r\n",
    "                    output = pow(output, 1/operand)\r\n",
    "            except:\r\n",
    "                pass\r\n",
    "\r\n",
    "            idx += 1\r\n",
    "\r\n",
    "        if type(output) == complex:\r\n",
    "            output = output.real\r\n",
    "\r\n",
    "        if abs(output) > 100000000:\r\n",
    "            return 0\r\n",
    "        return round(output)\r\n",
    "\r\n",
    "    def breed(self, gc1: \"GeneticStructure\", gc2: \"GeneticStructure\") -> GeneticStructure:\r\n",
    "        newGeneticCode = []\r\n",
    "        for idx in range(0, len(gc1.geneticCode)):\r\n",
    "            newGeneticCode.append(random.choice([gc1.geneticCode[idx], gc2.geneticCode[idx]]))\r\n",
    "        return GeneticStructure(size=gc1.size, geneticCode=newGeneticCode)"
   ],
   "outputs": [],
   "metadata": {}
  },
  {
   "cell_type": "code",
   "execution_count": 68,
   "source": [
    "'''\r\n",
    "Structure for genetic class\r\n",
    "'''\r\n",
    "class GeneticStructure:\r\n",
    "\r\n",
    "    def __init__(self, size: int=8, geneticCode: List=[]):\r\n",
    "        # Initializing our genetic structure with a default size of 8.\r\n",
    "        # Size is essentially the number of variables within our genetic code.\r\n",
    "        self.size = size\r\n",
    "        self.geneticCode = []\r\n",
    "\r\n",
    "        for i in range(self.size):\r\n",
    "            \r\n",
    "            value = random.choice(['+','-','*','/','pow','sqrt'])\r\n",
    "            self.geneticCode.append(value)"
   ],
   "outputs": [],
   "metadata": {}
  },
  {
   "cell_type": "code",
   "execution_count": 94,
   "source": [
    "geneticTool = GeneticTool()\r\n",
    "print(geneticTool.getPopulationDistribution())\r\n",
    "geneticTool.run()\r\n",
    "print(geneticTool.getPopulationDistribution())"
   ],
   "outputs": [
    {
     "output_type": "stream",
     "name": "stdout",
     "text": [
      "defaultdict(<function GeneticTool.getPopulationDistribution.<locals>.<lambda> at 0x000002D7E7B1BE50>, {'pow': 31, '/': 47, 'sqrt': 44, '-': 47, '*': 43, '+': 44})\n",
      "defaultdict(<function GeneticTool.getPopulationDistribution.<locals>.<lambda> at 0x000002D7E7BCC0D0>, {'*': 1489, 'sqrt': 1512, '-': 1529, '+': 1514, 'pow': 1475, '/': 1457})\n"
     ]
    }
   ],
   "metadata": {}
  }
 ],
 "metadata": {
  "orig_nbformat": 4,
  "language_info": {
   "name": "python",
   "version": "3.9.7",
   "mimetype": "text/x-python",
   "codemirror_mode": {
    "name": "ipython",
    "version": 3
   },
   "pygments_lexer": "ipython3",
   "nbconvert_exporter": "python",
   "file_extension": ".py"
  },
  "kernelspec": {
   "name": "python3",
   "display_name": "Python 3.9.7 64-bit"
  },
  "interpreter": {
   "hash": "abc21f84069825f427e2f15370fe4f39a1f97d06246c8b6e9697343172cfeb3c"
  }
 },
 "nbformat": 4,
 "nbformat_minor": 2
}